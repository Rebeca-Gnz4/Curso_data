{
 "cells": [
  {
   "cell_type": "markdown",
   "id": "effbcadf",
   "metadata": {},
   "source": [
    "# Exercises Composite funtions\n",
    "## Función compuesta simple"
   ]
  },
  {
   "cell_type": "markdown",
   "id": "38386fac",
   "metadata": {},
   "source": [
    "### $$ g(x) = a * b - c$$\n",
    "### $$ f(x) = x^2$$\n",
    "## $$f[g(x)] = (a + b - c)^2$$"
   ]
  },
  {
   "cell_type": "code",
   "execution_count": 1,
   "id": "c6c696db",
   "metadata": {},
   "outputs": [],
   "source": [
    "def restar_a_multiplicación(num1,num2,num3):\n",
    "    return num1 * num2 - num3"
   ]
  },
  {
   "cell_type": "code",
   "execution_count": 2,
   "id": "e702c629",
   "metadata": {},
   "outputs": [],
   "source": [
    "def cuadrado(num):\n",
    "    return num * num"
   ]
  },
  {
   "cell_type": "code",
   "execution_count": 3,
   "id": "a6b58a70",
   "metadata": {},
   "outputs": [
    {
     "name": "stdout",
     "output_type": "stream",
     "text": [
      "784\n"
     ]
    }
   ],
   "source": [
    "def cuadrado_de_restar_a_multiplicación(num1, num2, num3):\n",
    "    return cuadrado(restar_a_multiplicación(num1, num2, num3))  \n",
    "print(cuadrado_de_restar_a_multiplicación(4, 9, 8))"
   ]
  },
  {
   "cell_type": "markdown",
   "id": "33ebdd17",
   "metadata": {},
   "source": [
    "## Función compuesta compleja"
   ]
  },
  {
   "cell_type": "markdown",
   "id": "531c3a79",
   "metadata": {},
   "source": [
    "### $$ f(x) =\\dfrac{1}{x^2}$$"
   ]
  },
  {
   "cell_type": "code",
   "execution_count": null,
   "id": "47948798",
   "metadata": {},
   "outputs": [],
   "source": [
    "def cuadrado(x):\n",
    "    return x ^2"
   ]
  },
  {
   "cell_type": "code",
   "execution_count": 4,
   "id": "1dc2acb4",
   "metadata": {},
   "outputs": [
    {
     "name": "stdout",
     "output_type": "stream",
     "text": [
      "64\n"
     ]
    }
   ],
   "source": [
    "print(cuadrado(8))"
   ]
  },
  {
   "cell_type": "code",
   "execution_count": 5,
   "id": "ff6cd467",
   "metadata": {},
   "outputs": [],
   "source": [
    "def reciprocal(f):\n",
    "    return 1/f"
   ]
  },
  {
   "cell_type": "code",
   "execution_count": 6,
   "id": "11039411",
   "metadata": {},
   "outputs": [],
   "source": [
    "def composite_function(x):\n",
    "    return reciprocal(cuadrado(x))"
   ]
  },
  {
   "cell_type": "code",
   "execution_count": 9,
   "id": "8bd40b63",
   "metadata": {},
   "outputs": [
    {
     "data": {
      "text/plain": [
       "0.015625"
      ]
     },
     "execution_count": 9,
     "metadata": {},
     "output_type": "execute_result"
    }
   ],
   "source": [
    "composite_function(8)"
   ]
  },
  {
   "cell_type": "code",
   "execution_count": 17,
   "id": "4d3c0f6d",
   "metadata": {},
   "outputs": [
    {
     "name": "stdout",
     "output_type": "stream",
     "text": [
      "0.015625\n"
     ]
    }
   ],
   "source": [
    "result = 1/(8*8) \n",
    "print(result)"
   ]
  }
 ],
 "metadata": {
  "kernelspec": {
   "display_name": "base",
   "language": "python",
   "name": "python3"
  },
  "language_info": {
   "codemirror_mode": {
    "name": "ipython",
    "version": 3
   },
   "file_extension": ".py",
   "mimetype": "text/x-python",
   "name": "python",
   "nbconvert_exporter": "python",
   "pygments_lexer": "ipython3",
   "version": "3.13.5"
  }
 },
 "nbformat": 4,
 "nbformat_minor": 5
}
