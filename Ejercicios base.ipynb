{
 "cells": [
  {
   "cell_type": "markdown",
   "id": "745e70ce",
   "metadata": {},
   "source": [
    "# Part 1\n",
    "## Printing a greeting"
   ]
  },
  {
   "cell_type": "code",
   "execution_count": 3,
   "id": "2122c90c",
   "metadata": {},
   "outputs": [],
   "source": [
    "def greetings():\n",
    " print(\"Hello, world, I am Beca!\")"
   ]
  },
  {
   "cell_type": "code",
   "execution_count": 6,
   "id": "f142b5e8",
   "metadata": {},
   "outputs": [
    {
     "name": "stdout",
     "output_type": "stream",
     "text": [
      "Hello, world, I am Beca!\n"
     ]
    }
   ],
   "source": [
    "greetings()"
   ]
  },
  {
   "cell_type": "markdown",
   "id": "336b1a61",
   "metadata": {},
   "source": [
    "# Part 2\n",
    "## Simple Arithmetic Operations"
   ]
  },
  {
   "cell_type": "markdown",
   "id": "b36c0178",
   "metadata": {},
   "source": [
    "### Adding"
   ]
  },
  {
   "cell_type": "code",
   "execution_count": 8,
   "id": "6b773882",
   "metadata": {},
   "outputs": [
    {
     "name": "stdout",
     "output_type": "stream",
     "text": [
      "13\n"
     ]
    }
   ],
   "source": [
    "a = 4\n",
    "b = 9\n",
    "c = a + b\n",
    "print(c)"
   ]
  },
  {
   "cell_type": "markdown",
   "id": "d9652031",
   "metadata": {},
   "source": [
    "### Substracting"
   ]
  },
  {
   "cell_type": "code",
   "execution_count": 9,
   "id": "fd1adb78",
   "metadata": {},
   "outputs": [
    {
     "name": "stdout",
     "output_type": "stream",
     "text": [
      "5\n"
     ]
    }
   ],
   "source": [
    "d = b - a\n",
    "print(d)"
   ]
  },
  {
   "cell_type": "markdown",
   "id": "8cc7bce1",
   "metadata": {},
   "source": [
    "### Multiplying"
   ]
  },
  {
   "cell_type": "code",
   "execution_count": 10,
   "id": "aba9699d",
   "metadata": {},
   "outputs": [
    {
     "name": "stdout",
     "output_type": "stream",
     "text": [
      "36\n"
     ]
    }
   ],
   "source": [
    "e = a * b\n",
    "print(e)"
   ]
  },
  {
   "cell_type": "markdown",
   "id": "8754ee32",
   "metadata": {},
   "source": [
    "### Dividing"
   ]
  },
  {
   "cell_type": "code",
   "execution_count": 12,
   "id": "76802621",
   "metadata": {},
   "outputs": [
    {
     "name": "stdout",
     "output_type": "stream",
     "text": [
      "6.0\n"
     ]
    }
   ],
   "source": [
    "f = e / 6\n",
    "print(f)"
   ]
  }
 ],
 "metadata": {
  "kernelspec": {
   "display_name": "base",
   "language": "python",
   "name": "python3"
  },
  "language_info": {
   "codemirror_mode": {
    "name": "ipython",
    "version": 3
   },
   "file_extension": ".py",
   "mimetype": "text/x-python",
   "name": "python",
   "nbconvert_exporter": "python",
   "pygments_lexer": "ipython3",
   "version": "3.13.5"
  }
 },
 "nbformat": 4,
 "nbformat_minor": 5
}
