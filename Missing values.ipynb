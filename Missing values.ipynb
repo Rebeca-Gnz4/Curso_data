{
 "cells": [
  {
   "cell_type": "markdown",
   "id": "39ef6faf",
   "metadata": {},
   "source": [
    "# Tarea 4"
   ]
  },
  {
   "cell_type": "code",
   "execution_count": 3,
   "id": "10e3cb55",
   "metadata": {},
   "outputs": [],
   "source": [
    "def import_csv (file):\n",
    "    import pandas as pd\n",
    "    return pd.read_csv (file)"
   ]
  },
  {
   "cell_type": "code",
   "execution_count": 32,
   "id": "34bc2f27",
   "metadata": {},
   "outputs": [],
   "source": [
    "# Import the file and convert to a dataframe\n",
    "data_df = import_csv(\"data/Terminos_lagoon_TA_DIC_2023_RawData.csv\")"
   ]
  },
  {
   "cell_type": "code",
   "execution_count": 33,
   "id": "134b9d91",
   "metadata": {},
   "outputs": [
    {
     "name": "stdout",
     "output_type": "stream",
     "text": [
      "<class 'pandas.core.frame.DataFrame'>\n",
      "RangeIndex: 106 entries, 0 to 105\n",
      "Data columns (total 21 columns):\n",
      " #   Column                   Non-Null Count  Dtype  \n",
      "---  ------                   --------------  -----  \n",
      " 0   sample                   106 non-null    object \n",
      " 1   date                     106 non-null    object \n",
      " 2   estuary                  106 non-null    object \n",
      " 3   area                     106 non-null    object \n",
      " 4   station                  106 non-null    object \n",
      " 5   layer_depth              106 non-null    object \n",
      " 6   season                   106 non-null    object \n",
      " 7   chlorophy_microg_l       106 non-null    float64\n",
      " 8   cond_microsiemens_cm     106 non-null    float64\n",
      " 9   depth_m                  106 non-null    float64\n",
      " 10  do_percent_sat           106 non-null    float64\n",
      " 11  do_mg_l                  106 non-null    float64\n",
      " 12  sal_psu                  106 non-null    float64\n",
      " 13  sp_cond_microsiemens_cm  106 non-null    float64\n",
      " 14  turbidity_fnu            106 non-null    float64\n",
      " 15  temp_c                   106 non-null    float64\n",
      " 16  latitude                 106 non-null    float64\n",
      " 17  longitude                106 non-null    float64\n",
      " 18  dic_micromol_kg          106 non-null    int64  \n",
      " 19  ta_micromol_kg           106 non-null    int64  \n",
      " 20  dummy_data               99 non-null     float64\n",
      "dtypes: float64(12), int64(2), object(7)\n",
      "memory usage: 17.5+ KB\n"
     ]
    }
   ],
   "source": [
    "data_df.info()"
   ]
  },
  {
   "cell_type": "markdown",
   "id": "75c415ef",
   "metadata": {},
   "source": [
    "- Create a new column called \"TA_DIC_ratio\" that is the ratio of TA to DIC"
   ]
  },
  {
   "cell_type": "code",
   "execution_count": 34,
   "id": "63ae1292",
   "metadata": {},
   "outputs": [],
   "source": [
    "data_df['TA_DIC_ratio'] = data_df['ta_micromol_kg']/data_df['dic_micromol_kg']"
   ]
  },
  {
   "cell_type": "markdown",
   "id": "4f06fb13",
   "metadata": {},
   "source": [
    "- Calculate the mean and standard deviation of the \"TA_DIC_ratio\" for each season"
   ]
  },
  {
   "cell_type": "code",
   "execution_count": 35,
   "id": "37c47207",
   "metadata": {},
   "outputs": [],
   "source": [
    "data_df[\"TA_DIC_ratio_mean_season\"] = data_df.groupby(\"season\")[\"TA_DIC_ratio\"].transform(\"mean\")\n",
    "data_df[\"TA_DIC_ratio_std_season\"] = data_df.groupby(\"season\")[\"TA_DIC_ratio\"].transform(\"std\")"
   ]
  },
  {
   "cell_type": "markdown",
   "id": "10908d91",
   "metadata": {},
   "source": [
    "- Calculate the mean and standard deviation of the \"TA_DIC_ratio\" for each season and area"
   ]
  },
  {
   "cell_type": "code",
   "execution_count": 36,
   "id": "ebce44e0",
   "metadata": {},
   "outputs": [],
   "source": [
    "data_df['TA_DIC_ratio_mean_season_area']= data_df.groupby([\"season\",\"area\"])[\"TA_DIC_ratio\"].transform(\"mean\")\n",
    "data_df['TA_DIC_ratio_std_season_area']= data_df.groupby([\"season\",\"area\"])[\"TA_DIC_ratio\"].transform(\"std\")"
   ]
  },
  {
   "cell_type": "markdown",
   "id": "ae095526",
   "metadata": {},
   "source": [
    "- Save the results to an Excel file called \"TA_DIC_Season_Areas.xlsx\""
   ]
  },
  {
   "cell_type": "code",
   "execution_count": 37,
   "id": "f9aa584e",
   "metadata": {},
   "outputs": [],
   "source": [
    "data_df.to_excel(\"TA_DIC_Season_Areas.xlsx\", index=False)"
   ]
  }
 ],
 "metadata": {
  "kernelspec": {
   "display_name": "base",
   "language": "python",
   "name": "python3"
  },
  "language_info": {
   "codemirror_mode": {
    "name": "ipython",
    "version": 3
   },
   "file_extension": ".py",
   "mimetype": "text/x-python",
   "name": "python",
   "nbconvert_exporter": "python",
   "pygments_lexer": "ipython3",
   "version": "3.13.5"
  }
 },
 "nbformat": 4,
 "nbformat_minor": 5
}
